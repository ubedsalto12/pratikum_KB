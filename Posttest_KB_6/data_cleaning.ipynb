{
 "cells": [
  {
   "cell_type": "code",
   "execution_count": 347,
   "metadata": {},
   "outputs": [],
   "source": [
    "import pandas as pd\n",
    "import numpy as np\n",
    "from sklearn.model_selection import train_test_split"
   ]
  },
  {
   "cell_type": "code",
   "execution_count": 348,
   "metadata": {},
   "outputs": [],
   "source": [
    "data = pd.read_csv('fitness_class_2212.csv')"
   ]
  },
  {
   "cell_type": "code",
   "execution_count": 349,
   "metadata": {},
   "outputs": [],
   "source": [
    "X = data.iloc[:,:-1] # Target\n",
    "y = data.iloc[:,-1] # Feature"
   ]
  },
  {
   "cell_type": "code",
   "execution_count": 350,
   "metadata": {},
   "outputs": [
    {
     "name": "stdout",
     "output_type": "stream",
     "text": [
      "Jumlah data pelatihan: 1106\n",
      "Jumlah data pengujian: 474\n"
     ]
    }
   ],
   "source": [
    "\n",
    "\n",
    "X_train, X_test, y_train, y_test = train_test_split(X, y, test_size=0.3, random_state=42)\n",
    "\n",
    "# 70% data untuk pelatihan\n",
    "print(\"Jumlah data pelatihan:\", len(X_train))\n",
    "\n",
    "# 30% data untuk pengujian\n",
    "print(\"Jumlah data pengujian:\", len(X_test))\n"
   ]
  },
  {
   "cell_type": "code",
   "execution_count": 351,
   "metadata": {},
   "outputs": [
    {
     "name": "stdout",
     "output_type": "stream",
     "text": [
      "      booking_id  months_as_member    weight days_before day_of_week time  \\\n",
      "0              1              17.0  0.209799           8         Wed   PM   \n",
      "1              2              10.0  0.205021           2         Mon   AM   \n",
      "2              3              16.0  0.166102          14         Sun   AM   \n",
      "3              4               5.0  0.266788          10         Fri   AM   \n",
      "4              5              15.0  0.120580           8         Thu   AM   \n",
      "...          ...               ...       ...         ...         ...  ...   \n",
      "1575          39              27.0  0.203284          10         Fri   AM   \n",
      "1576          39              27.0  0.203284          10         Fri   AM   \n",
      "1577          39              27.0  0.203284          10         Fri   AM   \n",
      "1578          39              27.0  0.203284          10         Fri   AM   \n",
      "1579          39              27.0  0.203284          10         Fri   AM   \n",
      "\n",
      "      category  attended  \n",
      "0     Strength         0  \n",
      "1         HIIT         0  \n",
      "2     Strength         0  \n",
      "3      Cycling         0  \n",
      "4         HIIT         0  \n",
      "...        ...       ...  \n",
      "1575      HIIT         1  \n",
      "1576      HIIT         1  \n",
      "1577      HIIT         1  \n",
      "1578      HIIT         1  \n",
      "1579      HIIT         1  \n",
      "\n",
      "[1580 rows x 8 columns]\n"
     ]
    }
   ],
   "source": [
    "from sklearn.preprocessing import MinMaxScaler\n",
    "\n",
    "\n",
    "data_copy_min_max_scaler = data.copy()  # Salin dataset terlebih dahulu\n",
    "\n",
    "# Pilih atribut yang ingin dinormalisasi \n",
    "attribute_to_normalize = 'weight'\n",
    "\n",
    "# Inisialisasi Min-Max Scaler\n",
    "scaler = MinMaxScaler()\n",
    "\n",
    "# Ubah nilai atribut yang dipilih ke dalam bentuk matriks kolom dan lakukan normalisasi\n",
    "data_copy_min_max_scaler[[attribute_to_normalize]] = scaler.fit_transform(data_copy_min_max_scaler[[attribute_to_normalize]])\n",
    "\n",
    "# Tampilkan dataset setelah normalisasi\n",
    "print(data_copy_min_max_scaler)\n"
   ]
  },
  {
   "cell_type": "code",
   "execution_count": 352,
   "metadata": {},
   "outputs": [
    {
     "name": "stdout",
     "output_type": "stream",
     "text": [
      "      booking_id  months_as_member  weight days_before day_of_week time  \\\n",
      "0              1              17.0   79.56           8         Wed   PM   \n",
      "1              2              10.0   79.01           2         Mon   AM   \n",
      "2              3              16.0   74.53          14         Sun   AM   \n",
      "3              4               5.0   86.12          10         Fri   AM   \n",
      "4              5              15.0   69.29           8         Thu   AM   \n",
      "...          ...               ...     ...         ...         ...  ...   \n",
      "1575          39              27.0   78.81          10         Fri   AM   \n",
      "1576          39              27.0   78.81          10         Fri   AM   \n",
      "1577          39              27.0   78.81          10         Fri   AM   \n",
      "1578          39              27.0   78.81          10         Fri   AM   \n",
      "1579          39              27.0   78.81          10         Fri   AM   \n",
      "\n",
      "      category  attended  \n",
      "0     Strength -0.714504  \n",
      "1         HIIT -0.714504  \n",
      "2     Strength -0.714504  \n",
      "3      Cycling -0.714504  \n",
      "4         HIIT -0.714504  \n",
      "...        ...       ...  \n",
      "1575      HIIT  1.399572  \n",
      "1576      HIIT  1.399572  \n",
      "1577      HIIT  1.399572  \n",
      "1578      HIIT  1.399572  \n",
      "1579      HIIT  1.399572  \n",
      "\n",
      "[1580 rows x 8 columns]\n"
     ]
    }
   ],
   "source": [
    "from sklearn.preprocessing import StandardScaler\n",
    "\n",
    "# Misalnya 'data' adalah DataFrame Anda\n",
    "data_copy_standard = data.copy()  # Salin dataset terlebih dahulu\n",
    "\n",
    "# Inisialisasi Standard Scaler\n",
    "scaler = StandardScaler()\n",
    "\n",
    "# Pilih atribut yang ingin di-standarisasi \n",
    "attribute_to_standardize = 'attended'\n",
    "\n",
    "# Standarisasi atribut yang dipilih\n",
    "data_copy_standard[[attribute_to_standardize]] = scaler.fit_transform(data_copy_standard[[attribute_to_standardize]])\n",
    "\n",
    "# Tampilkan dataset setelah standarisasi\n",
    "print(data_copy_standard)\n"
   ]
  },
  {
   "cell_type": "code",
   "execution_count": 353,
   "metadata": {},
   "outputs": [
    {
     "name": "stdout",
     "output_type": "stream",
     "text": [
      "Nilai unik dalam kolom 'days_before':\n",
      "['8' '2' '14' '10' '6' '4' '9' '12' '5' '3' '7' '13' '12 days' '20' '1'\n",
      " '15' '6 days' '11' '13 days' '3 days' '16' '1 days' '7 days' '8 days'\n",
      " '10 days' '14 days' '17' '5 days' '2 days' '4 days' '29']\n"
     ]
    }
   ],
   "source": [
    "#diluar modul menghapus nilai non numeric\n",
    "print(\"Nilai unik dalam kolom 'days_before':\")\n",
    "print(data['days_before'].unique())\n",
    "# Mengubah nilai non-numeric dalam kolom 'days_before' menjadi NaN\n",
    "data['days_before'] = pd.to_numeric(data['days_before'], errors='coerce')\n",
    "\n"
   ]
  },
  {
   "cell_type": "code",
   "execution_count": 354,
   "metadata": {},
   "outputs": [
    {
     "name": "stdout",
     "output_type": "stream",
     "text": [
      "Nilai unik dalam kolom 'days_before':\n",
      "[ 8.  2. 14. 10.  6.  4.  9. 12.  5.  3.  7. 13. nan 20.  1. 15. 11. 16.\n",
      " 17. 29.]\n"
     ]
    }
   ],
   "source": [
    "print(\"Nilai unik dalam kolom 'days_before':\")\n",
    "print(data['days_before'].unique())"
   ]
  },
  {
   "cell_type": "code",
   "execution_count": 355,
   "metadata": {},
   "outputs": [
    {
     "name": "stdout",
     "output_type": "stream",
     "text": [
      "Nilai unik dalam kolom 'days_before':\n",
      "['Wed' 'Mon' 'Sun' 'Fri' 'Thu' 'Wednesday' 'Fri.' 'Tue' 'Sat' 'Monday']\n"
     ]
    }
   ],
   "source": [
    "print(\"Nilai unik dalam kolom 'days_before':\")\n",
    "print(data['day_of_week'].unique())\n",
    "# Mengganti nilai 'Wednesday' menjadi 'Wed' dalam kolom 'day_of_week'\n",
    "data['day_of_week'] = data['day_of_week'].replace('Wednesday', 'Wed')\n",
    "data['day_of_week'] = data['day_of_week'].replace('Monday', 'Mon')"
   ]
  },
  {
   "cell_type": "code",
   "execution_count": 356,
   "metadata": {},
   "outputs": [
    {
     "name": "stdout",
     "output_type": "stream",
     "text": [
      "Nilai unik dalam kolom 'days_before':\n",
      "['Wed' 'Mon' 'Sun' 'Fri' 'Thu' 'Fri.' 'Tue' 'Sat']\n"
     ]
    }
   ],
   "source": [
    "print(\"Nilai unik dalam kolom 'days_before':\")\n",
    "print(data['day_of_week'].unique())"
   ]
  },
  {
   "cell_type": "code",
   "execution_count": 357,
   "metadata": {},
   "outputs": [
    {
     "name": "stdout",
     "output_type": "stream",
     "text": [
      "Jumlah Record Yang memiliki nilai null: \n",
      "booking_id           0\n",
      "months_as_member     6\n",
      "weight              20\n",
      "days_before         25\n",
      "day_of_week          0\n",
      "time                 0\n",
      "category             4\n",
      "attended             0\n",
      "dtype: int64\n"
     ]
    }
   ],
   "source": [
    "print(\"Jumlah Record Yang memiliki nilai null: \")\n",
    "print(data.isnull().sum())"
   ]
  },
  {
   "cell_type": "code",
   "execution_count": 358,
   "metadata": {},
   "outputs": [
    {
     "name": "stdout",
     "output_type": "stream",
     "text": [
      "\n",
      "Dataset setelah data cleaning:\n",
      "Jumlah Record Yang memiliki nilai null: \n",
      "booking_id          0\n",
      "months_as_member    0\n",
      "weight              0\n",
      "days_before         0\n",
      "day_of_week         0\n",
      "time                0\n",
      "category            0\n",
      "attended            0\n",
      "dtype: int64\n"
     ]
    }
   ],
   "source": [
    "\n",
    "\n",
    "# Menentukan strategi untuk mengisi nilai null\n",
    "strategies = {\n",
    "    'months_as_member': data['months_as_member'].median(),\n",
    "    'weight': data['weight'].mean(),\n",
    "    'days_before': data['days_before'].mean(),\n",
    "    'category': data['category'].mode()[0]\n",
    "}\n",
    "\n",
    "# Mengisi nilai null sesuai dengan strategi\n",
    "data_cleaned = data.fillna(value=strategies)\n",
    "\n",
    "# Cetak dataset setelah data cleaning\n",
    "print(\"\\nDataset setelah data cleaning:\")\n",
    "\n",
    "print(\"Jumlah Record Yang memiliki nilai null: \")\n",
    "print(data_cleaned.isnull().sum())"
   ]
  },
  {
   "cell_type": "code",
   "execution_count": 359,
   "metadata": {},
   "outputs": [
    {
     "name": "stdout",
     "output_type": "stream",
     "text": [
      "Data yang memiliki nilai duplikat\n"
     ]
    },
    {
     "data": {
      "text/plain": [
       "80"
      ]
     },
     "execution_count": 359,
     "metadata": {},
     "output_type": "execute_result"
    }
   ],
   "source": [
    "print(\"Data yang memiliki nilai duplikat\")\n",
    "data.duplicated().sum()"
   ]
  },
  {
   "cell_type": "code",
   "execution_count": 360,
   "metadata": {},
   "outputs": [
    {
     "name": "stdout",
     "output_type": "stream",
     "text": [
      "\n",
      "Setelah menggunakan fungsi drop_duplicates()\n",
      "Jumlah nilai Duplikat: 0\n"
     ]
    }
   ],
   "source": [
    "data_cleaned.drop_duplicates(inplace=True)\n",
    "data_cleaned.duplicated().sum()\n",
    "print(\"\\nSetelah menggunakan fungsi drop_duplicates()\")\n",
    "print(\"Jumlah nilai Duplikat:\", data_cleaned.duplicated().sum())"
   ]
  },
  {
   "cell_type": "code",
   "execution_count": 361,
   "metadata": {},
   "outputs": [
    {
     "name": "stdout",
     "output_type": "stream",
     "text": [
      "<class 'pandas.core.frame.DataFrame'>\n",
      "RangeIndex: 1580 entries, 0 to 1579\n",
      "Data columns (total 8 columns):\n",
      " #   Column            Non-Null Count  Dtype  \n",
      "---  ------            --------------  -----  \n",
      " 0   booking_id        1580 non-null   int64  \n",
      " 1   months_as_member  1574 non-null   float64\n",
      " 2   weight            1560 non-null   float64\n",
      " 3   days_before       1555 non-null   float64\n",
      " 4   day_of_week       1580 non-null   object \n",
      " 5   time              1580 non-null   object \n",
      " 6   category          1576 non-null   object \n",
      " 7   attended          1580 non-null   int64  \n",
      "dtypes: float64(3), int64(2), object(3)\n",
      "memory usage: 98.9+ KB\n"
     ]
    }
   ],
   "source": [
    "data.info()"
   ]
  },
  {
   "cell_type": "code",
   "execution_count": 362,
   "metadata": {},
   "outputs": [],
   "source": [
    "\n",
    "data_cleaned['months_as_member'] = data_cleaned['months_as_member'].astype(int)\n",
    "data_cleaned['days_before'] = data_cleaned['days_before'].astype(int)\n"
   ]
  },
  {
   "cell_type": "code",
   "execution_count": 363,
   "metadata": {},
   "outputs": [
    {
     "name": "stdout",
     "output_type": "stream",
     "text": [
      "<class 'pandas.core.frame.DataFrame'>\n",
      "Int64Index: 1500 entries, 0 to 1574\n",
      "Data columns (total 8 columns):\n",
      " #   Column            Non-Null Count  Dtype  \n",
      "---  ------            --------------  -----  \n",
      " 0   booking_id        1500 non-null   int64  \n",
      " 1   months_as_member  1500 non-null   int32  \n",
      " 2   weight            1500 non-null   float64\n",
      " 3   days_before       1500 non-null   int32  \n",
      " 4   day_of_week       1500 non-null   object \n",
      " 5   time              1500 non-null   object \n",
      " 6   category          1500 non-null   object \n",
      " 7   attended          1500 non-null   int64  \n",
      "dtypes: float64(1), int32(2), int64(2), object(3)\n",
      "memory usage: 93.8+ KB\n"
     ]
    }
   ],
   "source": [
    "data_cleaned.info()"
   ]
  },
  {
   "cell_type": "code",
   "execution_count": 364,
   "metadata": {},
   "outputs": [
    {
     "name": "stderr",
     "output_type": "stream",
     "text": [
      "c:\\Users\\ACER\\AppData\\Local\\Programs\\Python\\Python310\\lib\\site-packages\\sklearn\\preprocessing\\_encoders.py:975: FutureWarning: `sparse` was renamed to `sparse_output` in version 1.2 and will be removed in 1.4. `sparse_output` is ignored unless you leave `sparse` to its default value.\n",
      "  warnings.warn(\n"
     ]
    },
    {
     "data": {
      "text/html": [
       "<div>\n",
       "<style scoped>\n",
       "    .dataframe tbody tr th:only-of-type {\n",
       "        vertical-align: middle;\n",
       "    }\n",
       "\n",
       "    .dataframe tbody tr th {\n",
       "        vertical-align: top;\n",
       "    }\n",
       "\n",
       "    .dataframe thead th {\n",
       "        text-align: right;\n",
       "    }\n",
       "</style>\n",
       "<table border=\"1\" class=\"dataframe\">\n",
       "  <thead>\n",
       "    <tr style=\"text-align: right;\">\n",
       "      <th></th>\n",
       "      <th>booking_id</th>\n",
       "      <th>months_as_member</th>\n",
       "      <th>weight</th>\n",
       "      <th>days_before</th>\n",
       "      <th>day_of_week</th>\n",
       "      <th>time</th>\n",
       "      <th>category</th>\n",
       "      <th>attended</th>\n",
       "      <th>time_AM</th>\n",
       "      <th>time_PM</th>\n",
       "    </tr>\n",
       "  </thead>\n",
       "  <tbody>\n",
       "    <tr>\n",
       "      <th>0</th>\n",
       "      <td>1.0</td>\n",
       "      <td>17.0</td>\n",
       "      <td>79.56</td>\n",
       "      <td>8.0</td>\n",
       "      <td>Wed</td>\n",
       "      <td>PM</td>\n",
       "      <td>Strength</td>\n",
       "      <td>0.0</td>\n",
       "      <td>0.0</td>\n",
       "      <td>1.0</td>\n",
       "    </tr>\n",
       "    <tr>\n",
       "      <th>1</th>\n",
       "      <td>2.0</td>\n",
       "      <td>10.0</td>\n",
       "      <td>79.01</td>\n",
       "      <td>2.0</td>\n",
       "      <td>Mon</td>\n",
       "      <td>AM</td>\n",
       "      <td>HIIT</td>\n",
       "      <td>0.0</td>\n",
       "      <td>1.0</td>\n",
       "      <td>0.0</td>\n",
       "    </tr>\n",
       "    <tr>\n",
       "      <th>2</th>\n",
       "      <td>3.0</td>\n",
       "      <td>16.0</td>\n",
       "      <td>74.53</td>\n",
       "      <td>14.0</td>\n",
       "      <td>Sun</td>\n",
       "      <td>AM</td>\n",
       "      <td>Strength</td>\n",
       "      <td>0.0</td>\n",
       "      <td>1.0</td>\n",
       "      <td>0.0</td>\n",
       "    </tr>\n",
       "    <tr>\n",
       "      <th>3</th>\n",
       "      <td>4.0</td>\n",
       "      <td>5.0</td>\n",
       "      <td>86.12</td>\n",
       "      <td>10.0</td>\n",
       "      <td>Fri</td>\n",
       "      <td>AM</td>\n",
       "      <td>Cycling</td>\n",
       "      <td>0.0</td>\n",
       "      <td>1.0</td>\n",
       "      <td>0.0</td>\n",
       "    </tr>\n",
       "    <tr>\n",
       "      <th>4</th>\n",
       "      <td>5.0</td>\n",
       "      <td>15.0</td>\n",
       "      <td>69.29</td>\n",
       "      <td>8.0</td>\n",
       "      <td>Thu</td>\n",
       "      <td>AM</td>\n",
       "      <td>HIIT</td>\n",
       "      <td>0.0</td>\n",
       "      <td>1.0</td>\n",
       "      <td>0.0</td>\n",
       "    </tr>\n",
       "    <tr>\n",
       "      <th>5</th>\n",
       "      <td>6.0</td>\n",
       "      <td>7.0</td>\n",
       "      <td>93.33</td>\n",
       "      <td>2.0</td>\n",
       "      <td>Mon</td>\n",
       "      <td>AM</td>\n",
       "      <td>Cycling</td>\n",
       "      <td>0.0</td>\n",
       "      <td>1.0</td>\n",
       "      <td>0.0</td>\n",
       "    </tr>\n",
       "    <tr>\n",
       "      <th>6</th>\n",
       "      <td>7.0</td>\n",
       "      <td>11.0</td>\n",
       "      <td>88.59</td>\n",
       "      <td>6.0</td>\n",
       "      <td>Wed</td>\n",
       "      <td>PM</td>\n",
       "      <td>HIIT</td>\n",
       "      <td>0.0</td>\n",
       "      <td>0.0</td>\n",
       "      <td>1.0</td>\n",
       "    </tr>\n",
       "    <tr>\n",
       "      <th>7</th>\n",
       "      <td>8.0</td>\n",
       "      <td>9.0</td>\n",
       "      <td>89.52</td>\n",
       "      <td>10.0</td>\n",
       "      <td>Fri</td>\n",
       "      <td>AM</td>\n",
       "      <td>HIIT</td>\n",
       "      <td>0.0</td>\n",
       "      <td>1.0</td>\n",
       "      <td>0.0</td>\n",
       "    </tr>\n",
       "    <tr>\n",
       "      <th>8</th>\n",
       "      <td>9.0</td>\n",
       "      <td>23.0</td>\n",
       "      <td>71.12</td>\n",
       "      <td>10.0</td>\n",
       "      <td>Fri.</td>\n",
       "      <td>AM</td>\n",
       "      <td>HIIT</td>\n",
       "      <td>1.0</td>\n",
       "      <td>1.0</td>\n",
       "      <td>0.0</td>\n",
       "    </tr>\n",
       "    <tr>\n",
       "      <th>9</th>\n",
       "      <td>10.0</td>\n",
       "      <td>7.0</td>\n",
       "      <td>81.25</td>\n",
       "      <td>10.0</td>\n",
       "      <td>Fri</td>\n",
       "      <td>AM</td>\n",
       "      <td>HIIT</td>\n",
       "      <td>0.0</td>\n",
       "      <td>1.0</td>\n",
       "      <td>0.0</td>\n",
       "    </tr>\n",
       "    <tr>\n",
       "      <th>10</th>\n",
       "      <td>11.0</td>\n",
       "      <td>13.0</td>\n",
       "      <td>73.22</td>\n",
       "      <td>4.0</td>\n",
       "      <td>Tue</td>\n",
       "      <td>AM</td>\n",
       "      <td>Cycling</td>\n",
       "      <td>0.0</td>\n",
       "      <td>1.0</td>\n",
       "      <td>0.0</td>\n",
       "    </tr>\n",
       "    <tr>\n",
       "      <th>11</th>\n",
       "      <td>12.0</td>\n",
       "      <td>16.0</td>\n",
       "      <td>86.86</td>\n",
       "      <td>10.0</td>\n",
       "      <td>Fri</td>\n",
       "      <td>AM</td>\n",
       "      <td>Cycling</td>\n",
       "      <td>0.0</td>\n",
       "      <td>1.0</td>\n",
       "      <td>0.0</td>\n",
       "    </tr>\n",
       "    <tr>\n",
       "      <th>12</th>\n",
       "      <td>13.0</td>\n",
       "      <td>16.0</td>\n",
       "      <td>71.70</td>\n",
       "      <td>14.0</td>\n",
       "      <td>Sun</td>\n",
       "      <td>AM</td>\n",
       "      <td>Strength</td>\n",
       "      <td>1.0</td>\n",
       "      <td>1.0</td>\n",
       "      <td>0.0</td>\n",
       "    </tr>\n",
       "    <tr>\n",
       "      <th>13</th>\n",
       "      <td>14.0</td>\n",
       "      <td>8.0</td>\n",
       "      <td>81.32</td>\n",
       "      <td>4.0</td>\n",
       "      <td>Tue</td>\n",
       "      <td>AM</td>\n",
       "      <td>Cycling</td>\n",
       "      <td>0.0</td>\n",
       "      <td>1.0</td>\n",
       "      <td>0.0</td>\n",
       "    </tr>\n",
       "    <tr>\n",
       "      <th>14</th>\n",
       "      <td>15.0</td>\n",
       "      <td>9.0</td>\n",
       "      <td>77.35</td>\n",
       "      <td>10.0</td>\n",
       "      <td>Fri</td>\n",
       "      <td>AM</td>\n",
       "      <td>Cycling</td>\n",
       "      <td>0.0</td>\n",
       "      <td>1.0</td>\n",
       "      <td>0.0</td>\n",
       "    </tr>\n",
       "    <tr>\n",
       "      <th>15</th>\n",
       "      <td>16.0</td>\n",
       "      <td>9.0</td>\n",
       "      <td>82.42</td>\n",
       "      <td>14.0</td>\n",
       "      <td>Sun</td>\n",
       "      <td>AM</td>\n",
       "      <td>HIIT</td>\n",
       "      <td>1.0</td>\n",
       "      <td>1.0</td>\n",
       "      <td>0.0</td>\n",
       "    </tr>\n",
       "    <tr>\n",
       "      <th>16</th>\n",
       "      <td>17.0</td>\n",
       "      <td>22.0</td>\n",
       "      <td>69.52</td>\n",
       "      <td>14.0</td>\n",
       "      <td>Sun</td>\n",
       "      <td>AM</td>\n",
       "      <td>Strength</td>\n",
       "      <td>1.0</td>\n",
       "      <td>1.0</td>\n",
       "      <td>0.0</td>\n",
       "    </tr>\n",
       "    <tr>\n",
       "      <th>17</th>\n",
       "      <td>18.0</td>\n",
       "      <td>6.0</td>\n",
       "      <td>79.01</td>\n",
       "      <td>9.0</td>\n",
       "      <td>Thu</td>\n",
       "      <td>PM</td>\n",
       "      <td>Yoga</td>\n",
       "      <td>0.0</td>\n",
       "      <td>0.0</td>\n",
       "      <td>1.0</td>\n",
       "    </tr>\n",
       "    <tr>\n",
       "      <th>18</th>\n",
       "      <td>19.0</td>\n",
       "      <td>33.0</td>\n",
       "      <td>81.55</td>\n",
       "      <td>8.0</td>\n",
       "      <td>Thu</td>\n",
       "      <td>AM</td>\n",
       "      <td>Cycling</td>\n",
       "      <td>1.0</td>\n",
       "      <td>1.0</td>\n",
       "      <td>0.0</td>\n",
       "    </tr>\n",
       "    <tr>\n",
       "      <th>19</th>\n",
       "      <td>20.0</td>\n",
       "      <td>10.0</td>\n",
       "      <td>72.93</td>\n",
       "      <td>4.0</td>\n",
       "      <td>Tue</td>\n",
       "      <td>AM</td>\n",
       "      <td>Cycling</td>\n",
       "      <td>1.0</td>\n",
       "      <td>1.0</td>\n",
       "      <td>0.0</td>\n",
       "    </tr>\n",
       "  </tbody>\n",
       "</table>\n",
       "</div>"
      ],
      "text/plain": [
       "    booking_id  months_as_member  weight  days_before day_of_week time  \\\n",
       "0          1.0              17.0   79.56          8.0         Wed   PM   \n",
       "1          2.0              10.0   79.01          2.0         Mon   AM   \n",
       "2          3.0              16.0   74.53         14.0         Sun   AM   \n",
       "3          4.0               5.0   86.12         10.0         Fri   AM   \n",
       "4          5.0              15.0   69.29          8.0         Thu   AM   \n",
       "5          6.0               7.0   93.33          2.0         Mon   AM   \n",
       "6          7.0              11.0   88.59          6.0         Wed   PM   \n",
       "7          8.0               9.0   89.52         10.0         Fri   AM   \n",
       "8          9.0              23.0   71.12         10.0        Fri.   AM   \n",
       "9         10.0               7.0   81.25         10.0         Fri   AM   \n",
       "10        11.0              13.0   73.22          4.0         Tue   AM   \n",
       "11        12.0              16.0   86.86         10.0         Fri   AM   \n",
       "12        13.0              16.0   71.70         14.0         Sun   AM   \n",
       "13        14.0               8.0   81.32          4.0         Tue   AM   \n",
       "14        15.0               9.0   77.35         10.0         Fri   AM   \n",
       "15        16.0               9.0   82.42         14.0         Sun   AM   \n",
       "16        17.0              22.0   69.52         14.0         Sun   AM   \n",
       "17        18.0               6.0   79.01          9.0         Thu   PM   \n",
       "18        19.0              33.0   81.55          8.0         Thu   AM   \n",
       "19        20.0              10.0   72.93          4.0         Tue   AM   \n",
       "\n",
       "    category  attended  time_AM  time_PM  \n",
       "0   Strength       0.0      0.0      1.0  \n",
       "1       HIIT       0.0      1.0      0.0  \n",
       "2   Strength       0.0      1.0      0.0  \n",
       "3    Cycling       0.0      1.0      0.0  \n",
       "4       HIIT       0.0      1.0      0.0  \n",
       "5    Cycling       0.0      1.0      0.0  \n",
       "6       HIIT       0.0      0.0      1.0  \n",
       "7       HIIT       0.0      1.0      0.0  \n",
       "8       HIIT       1.0      1.0      0.0  \n",
       "9       HIIT       0.0      1.0      0.0  \n",
       "10   Cycling       0.0      1.0      0.0  \n",
       "11   Cycling       0.0      1.0      0.0  \n",
       "12  Strength       1.0      1.0      0.0  \n",
       "13   Cycling       0.0      1.0      0.0  \n",
       "14   Cycling       0.0      1.0      0.0  \n",
       "15      HIIT       1.0      1.0      0.0  \n",
       "16  Strength       1.0      1.0      0.0  \n",
       "17      Yoga       0.0      0.0      1.0  \n",
       "18   Cycling       1.0      1.0      0.0  \n",
       "19   Cycling       1.0      1.0      0.0  "
      ]
     },
     "execution_count": 364,
     "metadata": {},
     "output_type": "execute_result"
    }
   ],
   "source": [
    "import pandas as pd\n",
    "from sklearn.preprocessing import OneHotEncoder\n",
    "\n",
    "\n",
    "# Menggunakan OneHotEncoder\n",
    "encoder = OneHotEncoder(sparse=False)  # 'sparse=False' menghasilkan array NumPy, 'drop='first'' menghasilkan kategori biner\n",
    "\n",
    "# Melakukan One-Hot Encoding pada kolom 'time'\n",
    "encoded_data = encoder.fit_transform(data_cleaned[['time']])\n",
    "\n",
    "# Membuat DataFrame baru dengan hasil encoding\n",
    "encoded_df = pd.DataFrame(encoded_data, columns= encoder.get_feature_names_out(['time']))\n",
    "\n",
    "# Menggabungkan hasil encoding dengan dataset asli\n",
    "data_encoded = pd.concat([data_cleaned, encoded_df], axis=1)\n",
    "\n",
    "# Menampilkan hasil\n",
    "data_encoded.head(20)\n"
   ]
  }
 ],
 "metadata": {
  "kernelspec": {
   "display_name": "Python 3",
   "language": "python",
   "name": "python3"
  },
  "language_info": {
   "codemirror_mode": {
    "name": "ipython",
    "version": 3
   },
   "file_extension": ".py",
   "mimetype": "text/x-python",
   "name": "python",
   "nbconvert_exporter": "python",
   "pygments_lexer": "ipython3",
   "version": "3.10.7"
  },
  "orig_nbformat": 4
 },
 "nbformat": 4,
 "nbformat_minor": 2
}
