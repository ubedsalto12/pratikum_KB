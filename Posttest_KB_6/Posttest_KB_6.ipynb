{
 "cells": [
  {
   "cell_type": "code",
   "execution_count": 43,
   "metadata": {},
   "outputs": [],
   "source": [
    "import pandas as pd\n",
    "import tensorflow as tf\n",
    "from sklearn.model_selection import train_test_split\n",
    "from sklearn.preprocessing import StandardScaler\n",
    "\n",
    "\n"
   ]
  },
  {
   "cell_type": "markdown",
   "metadata": {},
   "source": []
  },
  {
   "cell_type": "code",
   "execution_count": 44,
   "metadata": {},
   "outputs": [],
   "source": [
    "df = pd.read_csv('data_cleaned.csv')"
   ]
  },
  {
   "cell_type": "code",
   "execution_count": 45,
   "metadata": {},
   "outputs": [],
   "source": [
    "df = pd.get_dummies(df, columns=['category', 'time'], drop_first=True)\n",
    "# Mengaplikasikan one-hot encoding pada kolom 'category' dan 'time' dalam DataFrame 'df'. \n",
    "# 'drop_first=True' digunakan untuk menghindari jebakan variabel dummy (dummy variable trap)."
   ]
  },
  {
   "cell_type": "code",
   "execution_count": 46,
   "metadata": {},
   "outputs": [],
   "source": [
    "X = df.drop('attended', axis=1)  \n",
    "# Memisahkan kolom target 'attended' dan menyimpan fitur-fitur lainnya dalam variabel 'X'\n",
    "\n",
    "y = df[['attended']]\n",
    "# Memisahkan kolom target 'attended' dan menyimpannya dalam variabel 'y'"
   ]
  },
  {
   "cell_type": "code",
   "execution_count": 47,
   "metadata": {},
   "outputs": [],
   "source": [
    "from tensorflow.keras.callbacks import Callback\n",
    "\n",
    "class CustomCallback(Callback):\n",
    "    def on_epoch_end(self, epoch, logs=None):\n",
    "        if logs.get('accuracy') is not None and logs.get('accuracy') >= 0.8:\n",
    "            print(\"\\nAkurasi telah mencapai 80%, proses pelatihan dihentikan.\")\n",
    "            self.model.stop_training = True"
   ]
  },
  {
   "cell_type": "code",
   "execution_count": 48,
   "metadata": {},
   "outputs": [],
   "source": [
    "custom_callback = CustomCallback()"
   ]
  },
  {
   "cell_type": "code",
   "execution_count": 49,
   "metadata": {},
   "outputs": [],
   "source": [
    "# Bagi data menjadi data latih dan data uji\n",
    "X_train, X_test, y_train, y_test = train_test_split(X, y, test_size=0.5, random_state=42)"
   ]
  },
  {
   "cell_type": "code",
   "execution_count": 50,
   "metadata": {},
   "outputs": [],
   "source": [
    "# Skala fitur menggunakan StandardScaler\n",
    "scaler = StandardScaler()\n",
    "X_train_scaled = scaler.fit_transform(X_train)\n",
    "X_test_scaled = scaler.transform(X_test)"
   ]
  },
  {
   "cell_type": "code",
   "execution_count": 51,
   "metadata": {},
   "outputs": [],
   "source": [
    "from tensorflow.keras.layers import Dropout\n",
    "from tensorflow.keras.regularizers import L1, L2\n",
    "\n",
    "model = tf.keras.Sequential([\n",
    "    tf.keras.layers.Dense(128, activation='relu', input_shape=(X_train.shape[1],)),\n",
    "    Dropout(0.4),  # Dropout layer dengan tingkat dropout 0.5 (50%)\n",
    "    \n",
    "    tf.keras.layers.Dense(64, activation='relu'),\n",
    "    Dropout(0.4),  # Dropout layer dengan tingkat dropout 0.5 (50%)\n",
    "    \n",
    "    tf.keras.layers.Dense(32, activation='relu'),\n",
    "    Dropout(0.4),  # Dropout layer dengan tingkat dropout 0.5 (50%)\n",
    "    \n",
    "    tf.keras.layers.Dense(16, activation='relu'),\n",
    "    Dropout(0.4),  # Dropout layer dengan tingkat dropout 0.5 (50%)\n",
    "    \n",
    "    tf.keras.layers.Dense(1, activation='sigmoid')\n",
    "])\n"
   ]
  },
  {
   "cell_type": "code",
   "execution_count": 52,
   "metadata": {},
   "outputs": [],
   "source": [
    "model.compile(optimizer='adam', loss='binary_crossentropy', metrics=['accuracy'])\n"
   ]
  },
  {
   "cell_type": "code",
   "execution_count": 53,
   "metadata": {},
   "outputs": [
    {
     "name": "stdout",
     "output_type": "stream",
     "text": [
      "Epoch 1/1000\n"
     ]
    },
    {
     "name": "stdout",
     "output_type": "stream",
     "text": [
      "15/15 [==============================] - 1s 10ms/step - loss: 0.7008 - accuracy: 0.5044 - val_loss: 0.6352 - val_accuracy: 0.7367\n",
      "Epoch 2/1000\n",
      "15/15 [==============================] - 0s 3ms/step - loss: 0.6683 - accuracy: 0.5956 - val_loss: 0.6046 - val_accuracy: 0.7367\n",
      "Epoch 3/1000\n",
      "15/15 [==============================] - 0s 3ms/step - loss: 0.6425 - accuracy: 0.6533 - val_loss: 0.5906 - val_accuracy: 0.7367\n",
      "Epoch 4/1000\n",
      "15/15 [==============================] - 0s 3ms/step - loss: 0.6307 - accuracy: 0.6844 - val_loss: 0.5755 - val_accuracy: 0.7367\n",
      "Epoch 5/1000\n",
      "15/15 [==============================] - 0s 4ms/step - loss: 0.6227 - accuracy: 0.6800 - val_loss: 0.5636 - val_accuracy: 0.7367\n",
      "Epoch 6/1000\n",
      "15/15 [==============================] - 0s 4ms/step - loss: 0.5959 - accuracy: 0.6911 - val_loss: 0.5527 - val_accuracy: 0.7433\n",
      "Epoch 7/1000\n",
      "15/15 [==============================] - 0s 4ms/step - loss: 0.5957 - accuracy: 0.7111 - val_loss: 0.5446 - val_accuracy: 0.7433\n",
      "Epoch 8/1000\n",
      "15/15 [==============================] - 0s 4ms/step - loss: 0.6062 - accuracy: 0.7022 - val_loss: 0.5383 - val_accuracy: 0.7500\n",
      "Epoch 9/1000\n",
      "15/15 [==============================] - 0s 4ms/step - loss: 0.5819 - accuracy: 0.7200 - val_loss: 0.5277 - val_accuracy: 0.7633\n",
      "Epoch 10/1000\n",
      "15/15 [==============================] - 0s 3ms/step - loss: 0.5774 - accuracy: 0.7200 - val_loss: 0.5153 - val_accuracy: 0.7700\n",
      "Epoch 11/1000\n",
      "15/15 [==============================] - 0s 4ms/step - loss: 0.5406 - accuracy: 0.7400 - val_loss: 0.5096 - val_accuracy: 0.7633\n",
      "Epoch 12/1000\n",
      "15/15 [==============================] - 0s 3ms/step - loss: 0.5651 - accuracy: 0.7222 - val_loss: 0.5004 - val_accuracy: 0.7633\n",
      "Epoch 13/1000\n",
      "15/15 [==============================] - 0s 3ms/step - loss: 0.5193 - accuracy: 0.7333 - val_loss: 0.5024 - val_accuracy: 0.7667\n",
      "Epoch 14/1000\n",
      "15/15 [==============================] - 0s 4ms/step - loss: 0.5426 - accuracy: 0.7222 - val_loss: 0.5107 - val_accuracy: 0.7667\n",
      "Epoch 15/1000\n",
      "15/15 [==============================] - 0s 4ms/step - loss: 0.5474 - accuracy: 0.7400 - val_loss: 0.5084 - val_accuracy: 0.7667\n",
      "Epoch 16/1000\n",
      "15/15 [==============================] - 0s 3ms/step - loss: 0.5168 - accuracy: 0.7422 - val_loss: 0.5058 - val_accuracy: 0.7567\n",
      "Epoch 17/1000\n",
      "15/15 [==============================] - 0s 3ms/step - loss: 0.5142 - accuracy: 0.7467 - val_loss: 0.4918 - val_accuracy: 0.7633\n",
      "Epoch 18/1000\n",
      "15/15 [==============================] - 0s 3ms/step - loss: 0.5035 - accuracy: 0.7533 - val_loss: 0.4879 - val_accuracy: 0.7633\n",
      "Epoch 19/1000\n",
      "15/15 [==============================] - 0s 4ms/step - loss: 0.5231 - accuracy: 0.7578 - val_loss: 0.4890 - val_accuracy: 0.7533\n",
      "Epoch 20/1000\n",
      "15/15 [==============================] - 0s 4ms/step - loss: 0.5176 - accuracy: 0.7556 - val_loss: 0.4874 - val_accuracy: 0.7567\n",
      "Epoch 21/1000\n",
      "15/15 [==============================] - 0s 3ms/step - loss: 0.5249 - accuracy: 0.7556 - val_loss: 0.4878 - val_accuracy: 0.7533\n",
      "Epoch 22/1000\n",
      "15/15 [==============================] - 0s 3ms/step - loss: 0.4867 - accuracy: 0.7644 - val_loss: 0.4846 - val_accuracy: 0.7633\n",
      "Epoch 23/1000\n",
      "15/15 [==============================] - 0s 5ms/step - loss: 0.5151 - accuracy: 0.7578 - val_loss: 0.4810 - val_accuracy: 0.7700\n",
      "Epoch 24/1000\n",
      "15/15 [==============================] - 0s 4ms/step - loss: 0.4814 - accuracy: 0.7822 - val_loss: 0.4801 - val_accuracy: 0.7733\n",
      "Epoch 25/1000\n",
      "15/15 [==============================] - 0s 3ms/step - loss: 0.4801 - accuracy: 0.7778 - val_loss: 0.4835 - val_accuracy: 0.7600\n",
      "Epoch 26/1000\n",
      "15/15 [==============================] - 0s 3ms/step - loss: 0.5243 - accuracy: 0.7689 - val_loss: 0.4848 - val_accuracy: 0.7567\n",
      "Epoch 27/1000\n",
      "15/15 [==============================] - 0s 3ms/step - loss: 0.5142 - accuracy: 0.7444 - val_loss: 0.4848 - val_accuracy: 0.7667\n",
      "Epoch 28/1000\n",
      "15/15 [==============================] - 0s 4ms/step - loss: 0.4938 - accuracy: 0.7778 - val_loss: 0.4923 - val_accuracy: 0.7600\n",
      "Epoch 29/1000\n",
      "15/15 [==============================] - 0s 3ms/step - loss: 0.5017 - accuracy: 0.7844 - val_loss: 0.4907 - val_accuracy: 0.7633\n",
      "Epoch 30/1000\n",
      "15/15 [==============================] - 0s 3ms/step - loss: 0.4982 - accuracy: 0.7756 - val_loss: 0.4969 - val_accuracy: 0.7500\n",
      "Epoch 31/1000\n",
      "15/15 [==============================] - 0s 4ms/step - loss: 0.5077 - accuracy: 0.7556 - val_loss: 0.4930 - val_accuracy: 0.7567\n",
      "Epoch 32/1000\n",
      "15/15 [==============================] - 0s 3ms/step - loss: 0.5011 - accuracy: 0.7733 - val_loss: 0.4826 - val_accuracy: 0.7700\n",
      "Epoch 33/1000\n",
      "15/15 [==============================] - 0s 4ms/step - loss: 0.4932 - accuracy: 0.7622 - val_loss: 0.4886 - val_accuracy: 0.7500\n",
      "Epoch 34/1000\n",
      "15/15 [==============================] - 0s 3ms/step - loss: 0.4914 - accuracy: 0.7778 - val_loss: 0.4878 - val_accuracy: 0.7600\n",
      "Epoch 35/1000\n",
      "15/15 [==============================] - 0s 4ms/step - loss: 0.4797 - accuracy: 0.7867 - val_loss: 0.4878 - val_accuracy: 0.7667\n",
      "Epoch 36/1000\n",
      "15/15 [==============================] - 0s 3ms/step - loss: 0.5009 - accuracy: 0.7622 - val_loss: 0.4854 - val_accuracy: 0.7733\n",
      "Epoch 37/1000\n",
      "15/15 [==============================] - 0s 3ms/step - loss: 0.4508 - accuracy: 0.7867 - val_loss: 0.4886 - val_accuracy: 0.7667\n",
      "Epoch 38/1000\n",
      "15/15 [==============================] - 0s 3ms/step - loss: 0.4737 - accuracy: 0.7733 - val_loss: 0.4897 - val_accuracy: 0.7600\n",
      "Epoch 39/1000\n",
      "15/15 [==============================] - 0s 3ms/step - loss: 0.4929 - accuracy: 0.7778 - val_loss: 0.4936 - val_accuracy: 0.7467\n",
      "Epoch 40/1000\n",
      "15/15 [==============================] - 0s 3ms/step - loss: 0.4627 - accuracy: 0.7756 - val_loss: 0.4929 - val_accuracy: 0.7567\n",
      "Epoch 41/1000\n",
      "15/15 [==============================] - 0s 3ms/step - loss: 0.5002 - accuracy: 0.7711 - val_loss: 0.4980 - val_accuracy: 0.7367\n",
      "Epoch 42/1000\n",
      "15/15 [==============================] - 0s 4ms/step - loss: 0.4705 - accuracy: 0.7778 - val_loss: 0.4938 - val_accuracy: 0.7600\n",
      "Epoch 43/1000\n",
      "15/15 [==============================] - 0s 3ms/step - loss: 0.4572 - accuracy: 0.7889 - val_loss: 0.4878 - val_accuracy: 0.7633\n",
      "Epoch 44/1000\n",
      "15/15 [==============================] - 0s 4ms/step - loss: 0.4947 - accuracy: 0.7844 - val_loss: 0.4912 - val_accuracy: 0.7667\n",
      "Epoch 45/1000\n",
      "15/15 [==============================] - 0s 3ms/step - loss: 0.4683 - accuracy: 0.7911 - val_loss: 0.4946 - val_accuracy: 0.7667\n",
      "Epoch 46/1000\n",
      "15/15 [==============================] - 0s 3ms/step - loss: 0.4733 - accuracy: 0.7756 - val_loss: 0.4888 - val_accuracy: 0.7600\n",
      "Epoch 47/1000\n",
      "15/15 [==============================] - 0s 3ms/step - loss: 0.4700 - accuracy: 0.7622 - val_loss: 0.4801 - val_accuracy: 0.7733\n",
      "Epoch 48/1000\n",
      "15/15 [==============================] - 0s 3ms/step - loss: 0.4641 - accuracy: 0.7756 - val_loss: 0.4776 - val_accuracy: 0.7733\n",
      "Epoch 49/1000\n",
      "15/15 [==============================] - 0s 3ms/step - loss: 0.4768 - accuracy: 0.7733 - val_loss: 0.4825 - val_accuracy: 0.7700\n",
      "Epoch 50/1000\n",
      "15/15 [==============================] - 0s 3ms/step - loss: 0.4802 - accuracy: 0.7756 - val_loss: 0.4824 - val_accuracy: 0.7733\n",
      "Epoch 51/1000\n",
      "15/15 [==============================] - 0s 3ms/step - loss: 0.4830 - accuracy: 0.7800 - val_loss: 0.4929 - val_accuracy: 0.7600\n",
      "Epoch 52/1000\n",
      "15/15 [==============================] - 0s 4ms/step - loss: 0.4720 - accuracy: 0.7867 - val_loss: 0.4903 - val_accuracy: 0.7700\n",
      "Epoch 53/1000\n",
      "15/15 [==============================] - 0s 4ms/step - loss: 0.4630 - accuracy: 0.7800 - val_loss: 0.4908 - val_accuracy: 0.7733\n",
      "Epoch 54/1000\n",
      "15/15 [==============================] - 0s 3ms/step - loss: 0.4500 - accuracy: 0.7978 - val_loss: 0.4954 - val_accuracy: 0.7700\n",
      "Epoch 55/1000\n",
      "15/15 [==============================] - 0s 3ms/step - loss: 0.4632 - accuracy: 0.7933 - val_loss: 0.4934 - val_accuracy: 0.7700\n",
      "Epoch 56/1000\n",
      "15/15 [==============================] - 0s 3ms/step - loss: 0.4757 - accuracy: 0.7756 - val_loss: 0.4975 - val_accuracy: 0.7600\n",
      "Epoch 57/1000\n",
      "15/15 [==============================] - 0s 4ms/step - loss: 0.4863 - accuracy: 0.7867 - val_loss: 0.5024 - val_accuracy: 0.7667\n",
      "Epoch 58/1000\n",
      "15/15 [==============================] - 0s 3ms/step - loss: 0.4635 - accuracy: 0.7756 - val_loss: 0.5041 - val_accuracy: 0.7600\n",
      "Epoch 59/1000\n",
      "15/15 [==============================] - 0s 3ms/step - loss: 0.4636 - accuracy: 0.7711 - val_loss: 0.4987 - val_accuracy: 0.7667\n",
      "Epoch 60/1000\n",
      "15/15 [==============================] - 0s 3ms/step - loss: 0.4459 - accuracy: 0.7844 - val_loss: 0.5050 - val_accuracy: 0.7767\n",
      "Epoch 61/1000\n",
      "15/15 [==============================] - 0s 4ms/step - loss: 0.4710 - accuracy: 0.7733 - val_loss: 0.5050 - val_accuracy: 0.7767\n",
      "Epoch 62/1000\n",
      "15/15 [==============================] - 0s 3ms/step - loss: 0.4499 - accuracy: 0.7800 - val_loss: 0.5053 - val_accuracy: 0.7733\n",
      "Epoch 63/1000\n",
      "15/15 [==============================] - 0s 4ms/step - loss: 0.4387 - accuracy: 0.7889 - val_loss: 0.5142 - val_accuracy: 0.7433\n",
      "Epoch 64/1000\n",
      "15/15 [==============================] - 0s 3ms/step - loss: 0.4681 - accuracy: 0.7889 - val_loss: 0.5073 - val_accuracy: 0.7667\n",
      "Epoch 65/1000\n",
      "15/15 [==============================] - 0s 4ms/step - loss: 0.4641 - accuracy: 0.7778 - val_loss: 0.5039 - val_accuracy: 0.7700\n",
      "Epoch 66/1000\n",
      "15/15 [==============================] - 0s 3ms/step - loss: 0.4904 - accuracy: 0.7733 - val_loss: 0.4992 - val_accuracy: 0.7733\n",
      "Epoch 67/1000\n",
      "15/15 [==============================] - 0s 3ms/step - loss: 0.4502 - accuracy: 0.7667 - val_loss: 0.4989 - val_accuracy: 0.7733\n",
      "Epoch 68/1000\n",
      "15/15 [==============================] - 0s 3ms/step - loss: 0.4521 - accuracy: 0.7889 - val_loss: 0.5037 - val_accuracy: 0.7600\n",
      "Epoch 69/1000\n",
      "15/15 [==============================] - 0s 3ms/step - loss: 0.4622 - accuracy: 0.7933 - val_loss: 0.5046 - val_accuracy: 0.7567\n",
      "Epoch 70/1000\n",
      "15/15 [==============================] - 0s 4ms/step - loss: 0.4509 - accuracy: 0.7689 - val_loss: 0.5054 - val_accuracy: 0.7600\n",
      "Epoch 71/1000\n",
      " 1/15 [=>............................] - ETA: 0s - loss: 0.4334 - accuracy: 0.7812\n",
      "Akurasi telah mencapai 80%, proses pelatihan dihentikan.\n",
      "15/15 [==============================] - 0s 4ms/step - loss: 0.4508 - accuracy: 0.8067 - val_loss: 0.5084 - val_accuracy: 0.7600\n"
     ]
    },
    {
     "data": {
      "image/png": "[encoded data removed]",
      "text/plain": [
       "<Figure size 864x288 with 2 Axes>"
      ]
     },
     "metadata": {
      "needs_background": "light"
     },
     "output_type": "display_data"
    }
   ],
   "source": [
    "import matplotlib.pyplot as plt\n",
    "\n",
    "# Ambil hasil pelatihan model (misalnya, dari variabel history)\n",
    "history =model.fit(X_train_scaled, y_train, epochs=1000, batch_size=32, validation_split=0.4, callbacks=[custom_callback])\n",
    "\n",
    "# Plot loss\n",
    "plt.figure(figsize=(12, 4))\n",
    "plt.subplot(1, 2, 1)\n",
    "plt.plot(history.history['loss'], label='Training Loss')\n",
    "plt.plot(history.history['val_loss'], label='Validation Loss')\n",
    "plt.xlabel('Epoch')\n",
    "plt.ylabel('Loss')\n",
    "plt.legend()\n",
    "\n",
    "# Plot akurasi\n",
    "plt.subplot(1, 2, 2)\n",
    "plt.plot(history.history['accuracy'], label='Training Accuracy')\n",
    "plt.plot(history.history['val_accuracy'], label='Validation Accuracy')\n",
    "plt.xlabel('Epoch')\n",
    "plt.ylabel('Accuracy')\n",
    "plt.legend()\n",
    "\n",
    "# Tampilkan grafik\n",
    "plt.tight_layout()\n",
    "plt.show()\n"
   ]
  },
  {
   "cell_type": "code",
   "execution_count": 54,
   "metadata": {},
   "outputs": [
    {
     "name": "stdout",
     "output_type": "stream",
     "text": [
      " 1/24 [>.............................] - ETA: 0s - loss: 0.5067 - accuracy: 0.6250"
     ]
    },
    {
     "name": "stdout",
     "output_type": "stream",
     "text": [
      "24/24 [==============================] - 0s 998us/step - loss: 0.5065 - accuracy: 0.7453\n",
      "Loss: 0.5065123438835144, Accuracy: 0.7453333139419556\n"
     ]
    }
   ],
   "source": [
    "loss, accuracy = model.evaluate(X_test_scaled, y_test)\n",
    "print(f'Loss: {loss}, Accuracy: {accuracy}')"
   ]
  },
  {
   "cell_type": "code",
   "execution_count": 55,
   "metadata": {},
   "outputs": [
    {
     "name": "stdout",
     "output_type": "stream",
     "text": [
      "24/24 [==============================] - 0s 781us/step\n"
     ]
    }
   ],
   "source": [
    "# Prediksi pada data uji\n",
    "predictions = model.predict(X_test_scaled)"
   ]
  }
 ],
 "metadata": {
  "kernelspec": {
   "display_name": "Python 3",
   "language": "python",
   "name": "python3"
  },
  "language_info": {
   "name": "python",
   "version": "3.10.7"
  }
 },
 "nbformat": 4,
 "nbformat_minor": 2
}
