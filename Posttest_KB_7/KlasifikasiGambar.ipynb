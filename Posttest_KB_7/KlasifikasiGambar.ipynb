{
 "cells": [
  {
   "cell_type": "code",
   "execution_count": 1,
   "metadata": {},
   "outputs": [],
   "source": [
    "import tensorflow as tf\n",
    "import os"
   ]
  },
  {
   "cell_type": "markdown",
   "metadata": {},
   "source": [
    "# menggunakan modul split folders"
   ]
  },
  {
   "cell_type": "code",
   "execution_count": 2,
   "metadata": {},
   "outputs": [],
   "source": [
    "import splitfolders\n",
    "base_dir = 'Rice_Image_Dataset'"
   ]
  },
  {
   "cell_type": "code",
   "execution_count": 3,
   "metadata": {},
   "outputs": [
    {
     "data": {
      "text/plain": [
       "['Arborio',\n",
       " 'Basmati',\n",
       " 'Ipsala',\n",
       " 'Jasmine',\n",
       " 'Karacadag',\n",
       " 'Rice_Citation_Request.txt']"
      ]
     },
     "execution_count": 3,
     "metadata": {},
     "output_type": "execute_result"
    }
   ],
   "source": [
    "os.listdir(base_dir)"
   ]
  },
  {
   "cell_type": "markdown",
   "metadata": {},
   "source": [
    "# membagi folder menggunakan split folder"
   ]
  },
  {
   "cell_type": "code",
   "execution_count": 4,
   "metadata": {},
   "outputs": [],
   "source": [
    "splitfolders.ratio(base_dir, output='riceImageDataset',seed=42, ratio=(0.6,0.4))"
   ]
  },
  {
   "cell_type": "markdown",
   "metadata": {},
   "source": [
    "# Menggunakan modul os untuk menggabungkan path direktori train dan validation dengan dataset 'riceImageDataset'"
   ]
  },
  {
   "cell_type": "code",
   "execution_count": 5,
   "metadata": {},
   "outputs": [],
   "source": [
    "train_dir = os.path.join('riceImageDataset', 'train')\n",
    "validation_dir = os.path.join('riceImageDataset', 'val')"
   ]
  },
  {
   "cell_type": "code",
   "execution_count": 6,
   "metadata": {},
   "outputs": [],
   "source": [
    "Arborio_dir = os.path.join(base_dir,'Arborio')\n",
    "Basmati_dir = os.path.join(base_dir,'Basmati')\n",
    "Ipsala_dir = os.path.join(base_dir,'Ipsala')\n",
    "Jasmine_dir = os.path.join(base_dir,'Jasmine')\n",
    "Karacadag_dir = os.path.join(base_dir,'Karacadag')"
   ]
  },
  {
   "cell_type": "code",
   "execution_count": 7,
   "metadata": {},
   "outputs": [],
   "source": [
    "from sklearn.model_selection import train_test_split\n",
    "train_Arborio_dir,val_Arborio_dir = train_test_split(os.listdir(Arborio_dir),test_size = 0.4)\n",
    "train_Basmati,val_Basmati = train_test_split(os.listdir(Basmati_dir),test_size = 0.4)\n",
    "train_Ipsala_dir,val_Ipsala_dir = train_test_split(os.listdir(Ipsala_dir),test_size = 0.4)\n",
    "train_Jasmine_dir,val_Jasmine_dir = train_test_split(os.listdir(Jasmine_dir),test_size = 0.4)\n",
    "train_Karacadag_dir,val_Karacadag_dir = train_test_split(os.listdir(Karacadag_dir),test_size = 0.4)"
   ]
  },
  {
   "cell_type": "markdown",
   "metadata": {},
   "source": [
    "# Mengimport modul ImageDataGenerator dari paket tensorflow.keras.preprocessing.image"
   ]
  },
  {
   "cell_type": "code",
   "execution_count": 8,
   "metadata": {},
   "outputs": [],
   "source": [
    "from tensorflow.keras.preprocessing.image import ImageDataGenerator\n",
    "train_datagen = ImageDataGenerator(\n",
    "    rescale = 1./255,\n",
    "    rotation_range = 20,\n",
    "    horizontal_flip = True,\n",
    "    shear_range = 0.2,\n",
    "    fill_mode ='nearest'\n",
    ")\n",
    "validation_datagen = ImageDataGenerator(\n",
    "    rescale = 1./255\n",
    ")"
   ]
  },
  {
   "cell_type": "markdown",
   "metadata": {},
   "source": [
    "# Menggunakan metode flow_from_directory untuk memuat dan mengolah data latih dari direktori train_dir\n",
    "# Menggunakan metode flow_from_directory untuk memuat dan mengolah data validasi dari direktori validation_dir"
   ]
  },
  {
   "cell_type": "code",
   "execution_count": 9,
   "metadata": {},
   "outputs": [
    {
     "name": "stdout",
     "output_type": "stream",
     "text": [
      "Found 45000 images belonging to 5 classes.\n",
      "Found 30000 images belonging to 5 classes.\n"
     ]
    }
   ],
   "source": [
    "train_generator = train_datagen.flow_from_directory(\n",
    "        train_dir,  # direktori data latih\n",
    "        target_size=(150, 150),  # mengubah resolusi seluruh gambar menjadi 150x150 piksel\n",
    "        batch_size=4,\n",
    "        # karena ini merupakan masalah klasifikasi 2 kelas maka menggunakan class_mode = 'categorical'\n",
    "        class_mode='categorical')\n",
    "\n",
    "validation_generator = validation_datagen.flow_from_directory(\n",
    "        validation_dir, # direktori data validasi\n",
    "        target_size=(150, 150), # mengubah resolusi seluruh gambar menjadi 150x150 piksel\n",
    "        batch_size=4,\n",
    "        # karena ini merupakan masalah klasifikasi 2 kelas maka menggunakan class_mode = 'categorical'\n",
    "        class_mode='categorical')"
   ]
  },
  {
   "cell_type": "markdown",
   "metadata": {},
   "source": [
    "# Membuat model sequential untuk membangun arsitektur jaringan saraf konvolusi"
   ]
  },
  {
   "cell_type": "code",
   "execution_count": 10,
   "metadata": {},
   "outputs": [],
   "source": [
    "model = tf.keras.models.Sequential([\n",
    "    tf.keras.layers.Conv2D(32, (3,3), activation='relu', input_shape=(150, 150, 3)),\n",
    "    tf.keras.layers.MaxPooling2D(2, 2),\n",
    "    tf.keras.layers.Conv2D(64, (3,3), activation='relu'),\n",
    "    tf.keras.layers.MaxPooling2D(2,2),\n",
    "    tf.keras.layers.Conv2D(128, (3,3), activation='relu'),\n",
    "    tf.keras.layers.MaxPooling2D(2,2),\n",
    "    tf.keras.layers.Conv2D(512, (3,3), activation='relu'),\n",
    "    tf.keras.layers.Conv2D(1024, (3,3), activation='relu'),\n",
    "    tf.keras.layers.MaxPooling2D(2,2),\n",
    "    tf.keras.layers.Flatten(),\n",
    "    tf.keras.layers.Dense(1024, activation='relu'),\n",
    "    tf.keras.layers.Dense(5, activation='softmax')\n",
    "])"
   ]
  },
  {
   "cell_type": "code",
   "execution_count": 11,
   "metadata": {},
   "outputs": [
    {
     "name": "stdout",
     "output_type": "stream",
     "text": [
      "Model: \"sequential\"\n",
      "_________________________________________________________________\n",
      " Layer (type)                Output Shape              Param #   \n",
      "=================================================================\n",
      " conv2d (Conv2D)             (None, 148, 148, 32)      896       \n",
      "                                                                 \n",
      " max_pooling2d (MaxPooling2  (None, 74, 74, 32)        0         \n",
      " D)                                                              \n",
      "                                                                 \n",
      " conv2d_1 (Conv2D)           (None, 72, 72, 64)        18496     \n",
      "                                                                 \n",
      " max_pooling2d_1 (MaxPoolin  (None, 36, 36, 64)        0         \n",
      " g2D)                                                            \n",
      "                                                                 \n",
      " conv2d_2 (Conv2D)           (None, 34, 34, 128)       73856     \n",
      "                                                                 \n",
      " max_pooling2d_2 (MaxPoolin  (None, 17, 17, 128)       0         \n",
      " g2D)                                                            \n",
      "                                                                 \n",
      " conv2d_3 (Conv2D)           (None, 15, 15, 512)       590336    \n",
      "                                                                 \n",
      " conv2d_4 (Conv2D)           (None, 13, 13, 1024)      4719616   \n",
      "                                                                 \n",
      " max_pooling2d_3 (MaxPoolin  (None, 6, 6, 1024)        0         \n",
      " g2D)                                                            \n",
      "                                                                 \n",
      " flatten (Flatten)           (None, 36864)             0         \n",
      "                                                                 \n",
      " dense (Dense)               (None, 1024)              37749760  \n",
      "                                                                 \n",
      " dense_1 (Dense)             (None, 5)                 5125      \n",
      "                                                                 \n",
      "=================================================================\n",
      "Total params: 43158085 (164.64 MB)\n",
      "Trainable params: 43158085 (164.64 MB)\n",
      "Non-trainable params: 0 (0.00 Byte)\n",
      "_________________________________________________________________\n"
     ]
    }
   ],
   "source": [
    "model.summary()"
   ]
  },
  {
   "cell_type": "code",
   "execution_count": 12,
   "metadata": {},
   "outputs": [],
   "source": [
    "model.compile(optimizer='adam', loss='categorical_crossentropy', metrics=['accuracy'])\n"
   ]
  },
  {
   "cell_type": "code",
   "execution_count": 13,
   "metadata": {},
   "outputs": [],
   "source": [
    "import tensorflow as tf\n",
    "\n",
    "class AccuracyCallback(tf.keras.callbacks.Callback):\n",
    "    def on_epoch_end(self, epoch, logs={}):\n",
    "        if logs.get('accuracy') > 0.96:\n",
    "            print(\"\\nAkurasi mencapai 96%, menghentikan pelatihan.\")\n",
    "            self.model.stop_training = True\n",
    "callback = AccuracyCallback()"
   ]
  },
  {
   "cell_type": "code",
   "execution_count": 14,
   "metadata": {},
   "outputs": [
    {
     "name": "stdout",
     "output_type": "stream",
     "text": [
      "Epoch 1/35\n",
      "35/35 [==============================] - 17s 451ms/step - loss: 2.0350 - accuracy: 0.1857 - val_loss: 1.6120 - val_accuracy: 0.0500\n",
      "Epoch 2/35\n",
      "35/35 [==============================] - 15s 438ms/step - loss: 1.6084 - accuracy: 0.1929 - val_loss: 1.5374 - val_accuracy: 0.4000\n",
      "Epoch 3/35\n",
      "35/35 [==============================] - 15s 439ms/step - loss: 1.3932 - accuracy: 0.3500 - val_loss: 1.1246 - val_accuracy: 0.5000\n",
      "Epoch 4/35\n",
      "35/35 [==============================] - 15s 440ms/step - loss: 0.9706 - accuracy: 0.5857 - val_loss: 0.4673 - val_accuracy: 0.9000\n",
      "Epoch 5/35\n",
      "35/35 [==============================] - 15s 440ms/step - loss: 0.7112 - accuracy: 0.6929 - val_loss: 0.5932 - val_accuracy: 0.8000\n",
      "Epoch 6/35\n",
      "35/35 [==============================] - 15s 440ms/step - loss: 0.5693 - accuracy: 0.7857 - val_loss: 0.6619 - val_accuracy: 0.8000\n",
      "Epoch 7/35\n",
      "35/35 [==============================] - 15s 441ms/step - loss: 0.6196 - accuracy: 0.7429 - val_loss: 0.5592 - val_accuracy: 0.8500\n",
      "Epoch 8/35\n",
      "35/35 [==============================] - 15s 440ms/step - loss: 0.4602 - accuracy: 0.8643 - val_loss: 0.4178 - val_accuracy: 0.8000\n",
      "Epoch 9/35\n",
      "35/35 [==============================] - 15s 442ms/step - loss: 0.3513 - accuracy: 0.8714 - val_loss: 0.2957 - val_accuracy: 0.9000\n",
      "Epoch 10/35\n",
      "35/35 [==============================] - 15s 438ms/step - loss: 0.3506 - accuracy: 0.8786 - val_loss: 0.1622 - val_accuracy: 1.0000\n",
      "Epoch 11/35\n",
      "35/35 [==============================] - 15s 439ms/step - loss: 0.2326 - accuracy: 0.9000 - val_loss: 0.1554 - val_accuracy: 0.9000\n",
      "Epoch 12/35\n",
      "35/35 [==============================] - 15s 440ms/step - loss: 0.4726 - accuracy: 0.8000 - val_loss: 0.4516 - val_accuracy: 0.8000\n",
      "Epoch 13/35\n",
      "35/35 [==============================] - 15s 441ms/step - loss: 0.1811 - accuracy: 0.9500 - val_loss: 0.2974 - val_accuracy: 0.9500\n",
      "Epoch 14/35\n",
      "35/35 [==============================] - 15s 439ms/step - loss: 0.3877 - accuracy: 0.8571 - val_loss: 0.3702 - val_accuracy: 0.8500\n",
      "Epoch 15/35\n",
      "35/35 [==============================] - 15s 440ms/step - loss: 0.2530 - accuracy: 0.8643 - val_loss: 0.3574 - val_accuracy: 0.8500\n",
      "Epoch 16/35\n",
      "35/35 [==============================] - 15s 441ms/step - loss: 0.3745 - accuracy: 0.8571 - val_loss: 0.4384 - val_accuracy: 0.8500\n",
      "Epoch 17/35\n",
      "35/35 [==============================] - 15s 441ms/step - loss: 0.2715 - accuracy: 0.9000 - val_loss: 0.1842 - val_accuracy: 0.9000\n",
      "Epoch 18/35\n",
      "35/35 [==============================] - 15s 442ms/step - loss: 0.1728 - accuracy: 0.9286 - val_loss: 0.2816 - val_accuracy: 0.8500\n",
      "Epoch 19/35\n",
      "35/35 [==============================] - 15s 442ms/step - loss: 0.3439 - accuracy: 0.8571 - val_loss: 0.4239 - val_accuracy: 0.8500\n",
      "Epoch 20/35\n",
      "35/35 [==============================] - ETA: 0s - loss: 0.1462 - accuracy: 0.9714\n",
      "Akurasi mencapai 96%, menghentikan pelatihan.\n",
      "35/35 [==============================] - 15s 441ms/step - loss: 0.1462 - accuracy: 0.9714 - val_loss: 0.3122 - val_accuracy: 0.8500\n"
     ]
    },
    {
     "data": {
      "image/png": "[encoded data removed]",
      "text/plain": [
       "<Figure size 864x288 with 2 Axes>"
      ]
     },
     "metadata": {
      "needs_background": "light"
     },
     "output_type": "display_data"
    }
   ],
   "source": [
    "import matplotlib.pyplot as plt\n",
    "history = model.fit(\n",
    "      train_generator,\n",
    "      steps_per_epoch=35,  # berapa batch yang akan dieksekusi pada setiap epoch\n",
    "      epochs=35,\n",
    "      validation_data=validation_generator, # menampilkan akurasi pengujian data validasi\n",
    "      validation_steps=5,  # berapa batch yang akan dieksekusi pada setiap epoch\n",
    "      callbacks = [callback]\n",
    "      )\n",
    "\n",
    "# Plot loss\n",
    "plt.figure(figsize=(12, 4))\n",
    "plt.subplot(1, 2, 1)\n",
    "plt.plot(history.history['loss'], label='Training Loss')\n",
    "plt.plot(history.history['val_loss'], label='Validation Loss')\n",
    "plt.xlabel('Epoch')\n",
    "plt.ylabel('Loss')\n",
    "plt.legend()\n",
    "\n",
    "# Plot akurasi\n",
    "plt.subplot(1, 2, 2)\n",
    "plt.plot(history.history['accuracy'], label='Training Accuracy')\n",
    "plt.plot(history.history['val_accuracy'], label='Validation Accuracy')\n",
    "plt.xlabel('Epoch')\n",
    "plt.ylabel('Accuracy')\n",
    "plt.legend()\n",
    "\n",
    "# Tampilkan grafik\n",
    "plt.tight_layout()\n",
    "plt.show()"
   ]
  },
  {
   "cell_type": "code",
   "execution_count": 31,
   "metadata": {},
   "outputs": [
    {
     "name": "stdout",
     "output_type": "stream",
     "text": [
      "1/1 [==============================] - 0s 33ms/step\n",
      "Predicted class probabilities: [[1. 0. 0. 1. 0.]]\n",
      "Arborio\n"
     ]
    },
    {
     "data": {
      "image/png": "[encoded data removed]",
      "text/plain": [
       "<Figure size 432x288 with 1 Axes>"
      ]
     },
     "metadata": {
      "needs_background": "light"
     },
     "output_type": "display_data"
    }
   ],
   "source": [
    "import numpy as np\n",
    "from tensorflow.keras.preprocessing import image\n",
    "import matplotlib.pyplot as plt\n",
    "import tkinter as tk\n",
    "from tkinter import filedialog\n",
    "\n",
    "# Open a file dialog to select an image file\n",
    "root = tk.Tk()\n",
    "root.withdraw()  # Hide the main window\n",
    "file_path = filedialog.askopenfilename()\n",
    "\n",
    "# Load and predict the selected image\n",
    "if file_path:\n",
    "    img = image.load_img(file_path, target_size=(150, 150))\n",
    "    imgplot = plt.imshow(img)\n",
    "    x = image.img_to_array(img)\n",
    "    x = np.expand_dims(x, axis=0)\n",
    "    images = np.vstack([x])\n",
    "\n",
    "    classes = model.predict(images, batch_size=10)\n",
    "    print(\"Predicted class probabilities:\", classes)\n",
    "\n",
    "    if classes[0][0] == 1:\n",
    "        print(\"Arborio\")\n",
    "    elif classes[0][1] == 1:\n",
    "        print(\"Basmati\")\n",
    "    elif classes[0][2] == 1:\n",
    "        print(\"Ipsala\")\n",
    "    elif classes[0][3] == 1:\n",
    "        print(\"Jasmine\")\n",
    "    elif classes[0][4] == 1:\n",
    "        print(\"Karacadag\")\n",
    "    \n",
    "    else:\n",
    "        print(\"Class not identified\")\n",
    "else:\n",
    "    print(\"No file selected.\")\n"
   ]
  },
  {
   "cell_type": "code",
   "execution_count": null,
   "metadata": {},
   "outputs": [],
   "source": []
  }
 ],
 "metadata": {
  "kernelspec": {
   "display_name": "Python 3",
   "language": "python",
   "name": "python3"
  },
  "language_info": {
   "codemirror_mode": {
    "name": "ipython",
    "version": 3
   },
   "file_extension": ".py",
   "mimetype": "text/x-python",
   "name": "python",
   "nbconvert_exporter": "python",
   "pygments_lexer": "ipython3",
   "version": "3.10.7"
  }
 },
 "nbformat": 4,
 "nbformat_minor": 2
}
